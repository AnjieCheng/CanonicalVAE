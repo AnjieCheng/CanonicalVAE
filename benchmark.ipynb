{
 "cells": [
  {
   "cell_type": "code",
   "execution_count": null,
   "id": "injured-accountability",
   "metadata": {},
   "outputs": [],
   "source": [
    "import os\n",
    "os.environ[\"CUDA_DEVICE_ORDER\"]=\"PCI_BUS_ID\"\n",
    "os.environ[\"CUDA_VISIBLE_DEVICES\"]=\"0\"\n",
    "\n",
    "import numpy as np\n",
    "import torch\n",
    "from external.metrics import compute_all_metrics, jsd_between_point_cloud_sets as JSD, emd_cd\n",
    "from src.data.point_operation import normalize_point_cloud\n",
    "\n",
    "def result_dict_tensor_to_np(result_dict):\n",
    "    for key in result_dict.keys():\n",
    "        if torch.is_tensor(result_dict[key]):\n",
    "            result_dict[key] = result_dict[key].item()\n",
    "    return result_dict"
   ]
  },
  {
   "cell_type": "markdown",
   "id": "e6bbcac4",
   "metadata": {},
   "source": [
    "### Reconstruction"
   ]
  },
  {
   "cell_type": "code",
   "execution_count": null,
   "id": "15278dbd",
   "metadata": {},
   "outputs": [],
   "source": [
    "gdt_airplane = torch.tensor(np.load(\"./out/reconstruction/gdt_airplane.npy\")).cuda()\n",
    "gdt_chair = torch.tensor(np.load(\"./out/reconstruction/gdt_chair.npy\")).cuda()\n",
    "gdt_car = torch.tensor(np.load(\"./out/reconstruction/gdt_car.npy\")).cuda()\n",
    "\n",
    "ours_airplane = torch.tensor(np.load(\"./out/reconstruction/ours_airplane.npy\")).cuda()\n",
    "ours_chair = torch.tensor(np.load(\"./out/reconstruction/ours_chair.npy\")).cuda()\n",
    "ours_car = torch.tensor(np.load(\"./out/reconstruction/ours_car.npy\")).cuda()\n",
    "\n",
    "print(\"gdt_airplane: \", gdt_airplane.shape, \"ours_airplane: \", ours_airplane.shape)\n",
    "print(\"gdt_chair: \", gdt_chair.shape, \"ours_chair: \", ours_chair.shape)\n",
    "print(\"gdt_car: \", gdt_car.shape, \"ours_car: \", ours_car.shape)"
   ]
  },
  {
   "cell_type": "code",
   "execution_count": null,
   "id": "54925477",
   "metadata": {},
   "outputs": [],
   "source": [
    "AE_airplane_results = emd_cd(ours_airplane, gdt_airplane, 128, accelerated_cd=True)\n",
    "AE_chair_results = emd_cd(ours_chair, gdt_chair, 128, accelerated_cd=True)\n",
    "AE_car_results = emd_cd(ours_car, gdt_car, 128, accelerated_cd=True)\n",
    "\n",
    "print(\"AE_airplane_results:\")\n",
    "print(result_dict_tensor_to_np(AE_airplane_results))\n",
    "print(\"AE_chair_results:\")\n",
    "print(result_dict_tensor_to_np(AE_chair_results))\n",
    "print(\"AE_car_results:\")\n",
    "print(result_dict_tensor_to_np(AE_car_results))"
   ]
  },
  {
   "cell_type": "markdown",
   "id": "8e48416f",
   "metadata": {},
   "source": [
    "### Generation"
   ]
  },
  {
   "cell_type": "code",
   "execution_count": null,
   "id": "fc2fb3b1",
   "metadata": {},
   "outputs": [],
   "source": [
    "airplane_gdt = torch.tensor((np.load(\"./out/samples/generation/gdt_normed_airplane.npy\"))).cuda()\n",
    "chair_gdt = torch.tensor((np.load(\"./out/samples/generation/gdt_normed_chair.npy\"))).cuda()\n",
    "car_gdt = torch.tensor((np.load(\"./out/samples/generation/gdt_normed_car.npy\"))).cuda()\n",
    "\n",
    "GEN_airplane_ours = torch.tensor((np.load(\"./out/samples/generation/ours_airplane.npy\"))).cuda()\n",
    "GEN_car_ours = torch.tensor((np.load(\"./out/samples/generation/ours_car.npy\"))).cuda()\n",
    "GEN_chair_ours = torch.tensor((np.load(\"./out/samples/generation/ours_chair.npy\"))).cuda()\n",
    "\n",
    "print(\"gdt_airplane: \", airplane_gdt.shape, \"ours_airplane: \", GEN_airplane_ours.shape)\n",
    "print(\"gdt_chair: \", chair_gdt.shape, \"ours_chair: \", GEN_chair_ours.shape)\n",
    "print(\"gdt_car: \", car_gdt.shape, \"ours_car: \", GEN_car_ours.shape)"
   ]
  },
  {
   "cell_type": "code",
   "execution_count": null,
   "id": "2039d9fa",
   "metadata": {},
   "outputs": [],
   "source": [
    "GEN_airplane_results = compute_all_metrics(GEN_airplane_ours, airplane_gdt, 256, accelerated_cd=True, compute_nna=True, compute_jsd=True)\n",
    "GEN_car_results = compute_all_metrics(GEN_car_ours, car_gdt, 256, accelerated_cd=True, compute_nna=True, compute_jsd=True)\n",
    "GEN_chair_results = compute_all_metrics(GEN_chair_ours, chair_gdt, 256, accelerated_cd=True, compute_nna=True, compute_jsd=True)\n",
    "\n",
    "print(\"GEN_airplane_results:\")\n",
    "print(result_dict_tensor_to_np(GEN_airplane_results))\n",
    "print(\"GEN_car_results:\")\n",
    "print(result_dict_tensor_to_np(GEN_car_results))\n",
    "print(\"GEN_chair_results:\")\n",
    "print(result_dict_tensor_to_np(GEN_chair_results))"
   ]
  }
 ],
 "metadata": {
  "kernelspec": {
   "display_name": "ptlgt",
   "language": "python",
   "name": "ptlgt"
  },
  "language_info": {
   "codemirror_mode": {
    "name": "ipython",
    "version": 3
   },
   "file_extension": ".py",
   "mimetype": "text/x-python",
   "name": "python",
   "nbconvert_exporter": "python",
   "pygments_lexer": "ipython3",
   "version": "3.8.12"
  }
 },
 "nbformat": 4,
 "nbformat_minor": 5
}
